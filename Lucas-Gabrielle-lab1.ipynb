{
 "cells": [
  {
   "cell_type": "markdown",
   "metadata": {},
   "source": [
    "## 196108\n",
    "**LUCAS** <br>\n",
    "*2 BS ITE*"
   ]
  },
  {
   "cell_type": "code",
   "execution_count": 13,
   "metadata": {},
   "outputs": [
    {
     "name": "stdout",
     "output_type": "stream",
     "text": [
      "Enter the amount in US Dollars20\n",
      "20 US Dollar(s) = 1000 Philippine Pesos\n"
     ]
    }
   ],
   "source": [
    "#Problem 1: USD to PHP\n",
    "\n",
    "def dollars_to_pesos(x):\n",
    "    return x*50\n",
    "\n",
    "x=int(input(\"Enter the amount in US Dollars\"))\n",
    "\n",
    "print (x, \"US Dollar(s) =\", dollars_to_pesos(x), \"Philippine Pesos\")"
   ]
  },
  {
   "cell_type": "code",
   "execution_count": 6,
   "metadata": {},
   "outputs": [
    {
     "name": "stdout",
     "output_type": "stream",
     "text": [
      "First Integer (a)55\n",
      "Second Integer (b)3\n",
      "58\n",
      "52\n",
      "165\n",
      "18\n",
      "3\n"
     ]
    }
   ],
   "source": [
    "#Problem 2: Two Positive Integers\n",
    "\n",
    "a=int(input(\"First Integer (a)\"))\n",
    "b=int(input(\"Second Integer (b)\"))\n",
    "\n",
    "print(a+b)\n",
    "print(a-b)\n",
    "print(a*b)\n",
    "print(a//b)\n",
    "print(a&b)"
   ]
  },
  {
   "cell_type": "code",
   "execution_count": 19,
   "metadata": {},
   "outputs": [
    {
     "name": "stdout",
     "output_type": "stream",
     "text": [
      "Enter kg:65\n",
      "Enter cm:180\n",
      "BMI: 20.061728395061728\n"
     ]
    }
   ],
   "source": [
    "#Problem 3: Body Mass Index (BMI)\n",
    "\n",
    "def compute_bmi(kg,m):\n",
    "    return kg / m**2\n",
    "\n",
    "def convert_cm_to_m(cm):\n",
    "    return cm/100\n",
    "\n",
    "kg=int(input(\"Enter kg:\"))\n",
    "cm=int(input (\"Enter cm:\"))\n",
    "x=convert_cm_to_m(cm)\n",
    "\n",
    "print(\"BMI:\", compute_bmi(kg, x))\n",
    "    "
   ]
  },
  {
   "cell_type": "code",
   "execution_count": null,
   "metadata": {},
   "outputs": [],
   "source": []
  }
 ],
 "metadata": {
  "kernelspec": {
   "display_name": "Python 3",
   "language": "python",
   "name": "python3"
  },
  "language_info": {
   "codemirror_mode": {
    "name": "ipython",
    "version": 3
   },
   "file_extension": ".py",
   "mimetype": "text/x-python",
   "name": "python",
   "nbconvert_exporter": "python",
   "pygments_lexer": "ipython3",
   "version": "3.8.3"
  }
 },
 "nbformat": 4,
 "nbformat_minor": 4
}
