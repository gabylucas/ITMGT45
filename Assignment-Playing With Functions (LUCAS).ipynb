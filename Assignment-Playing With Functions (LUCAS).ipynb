{
 "cells": [
  {
   "cell_type": "code",
   "execution_count": 57,
   "metadata": {},
   "outputs": [
    {
     "name": "stdout",
     "output_type": "stream",
     "text": [
      "Enter Circumference: 10\n",
      "Area: 7.957728545963841\n"
     ]
    }
   ],
   "source": [
    "#Problem 1: Circumference of a Circle\n",
    "\n",
    "def area_circle (circ):\n",
    "    pi=3.1416\n",
    "    r=circ/(2*pi)\n",
    "    a=pi*(r**2)\n",
    "    return a\n",
    "\n",
    "circ=int(input(\"Enter Circumference: \"))\n",
    "print(\"Area:\", area_circle(circ))"
   ]
  },
  {
   "cell_type": "code",
   "execution_count": 56,
   "metadata": {},
   "outputs": [
    {
     "name": "stdout",
     "output_type": "stream",
     "text": [
      "Enter a Five Letter Word: Hello\n",
      "Reversed Word: olleH \n"
     ]
    }
   ],
   "source": [
    "#Problem 2: Reverse (Strings)\n",
    "\n",
    "def reverse(string):\n",
    "    str =\" \"\n",
    "    for i in string: \n",
    "        str =i+str\n",
    "    return str\n",
    "        \n",
    "while True:\n",
    "    word = input (\"Enter a Five Letter Word: \")\n",
    "    if len (word) == 5:\n",
    "        print(\"Reversed Word:\", reverse (word))\n",
    "        break\n",
    "    elif len (word) < 5:\n",
    "        print(\"Must put a 5 letter word only\")\n",
    "        break\n",
    "    elif len (word) > 5:\n",
    "        print(\"Must put a 5 letter word only\")"
   ]
  },
  {
   "cell_type": "code",
   "execution_count": 63,
   "metadata": {},
   "outputs": [
    {
     "name": "stdout",
     "output_type": "stream",
     "text": [
      "Input your Integer: 100\n",
      "Sum is 5050.0\n"
     ]
    }
   ],
   "source": [
    "#Problem 3: Positive Integer and Returns the Sum\n",
    "\n",
    "x = int(input(\"Input your Integer: \"))\n",
    "if x >= 0:\n",
    "    add = (x * (x + 1)) / 2\n",
    "    print (\"Sum is\", add)\n",
    "else:\n",
    "    print(\"Number must be a Postive Integer\")"
   ]
  },
  {
   "cell_type": "code",
   "execution_count": 60,
   "metadata": {},
   "outputs": [
    {
     "name": "stdout",
     "output_type": "stream",
     "text": [
      "The square of the sum of the first 100 numbers is 25502500.0\n",
      "The sum of the squares of the first 100 numbers is 338350\n",
      "The difference is 25164150.0\n"
     ]
    }
   ],
   "source": [
    "#Problem 4: The Sum of the Squares\n",
    "\n",
    "x = 100\n",
    "i = 1\n",
    "add2 = 0\n",
    "if x >= 0:\n",
    "    add = ((x * (x + 1)) / 2)**2\n",
    "while i <= 100:\n",
    "    add2 += (i)**2\n",
    "    i += 1\n",
    "diff = add - add2\n",
    "print(\"The square of the sum of the first 100 numbers is\", add)\n",
    "print(\"The sum of the squares of the first 100 numbers is\", add2)\n",
    "print(\"The difference is\", diff)"
   ]
  },
  {
   "cell_type": "code",
   "execution_count": 61,
   "metadata": {},
   "outputs": [
    {
     "name": "stdout",
     "output_type": "stream",
     "text": [
      "105\n",
      "1 peso coins:  1\n",
      "0.25 centavo coins:  0\n",
      "0.10 centavo coins:  0\n",
      "0.05 centavo coins:  1\n",
      "0.01 centavo coins:  0\n"
     ]
    }
   ],
   "source": [
    "#Problem 5:Self-Service Point of Sale System \n",
    "\n",
    "x = int(input())\n",
    "\n",
    "\n",
    "w = x//100\n",
    "print(\"1 peso coins: \", w)\n",
    "\n",
    "y = (x - (w*100)) // 25\n",
    "print(\"0.25 centavo coins: \", y)\n",
    "\n",
    "z = (x - (w*100) - (y*25)) // 10\n",
    "print(\"0.10 centavo coins: \", z)\n",
    "\n",
    "a = (x - (w*100) - (y*25) - (z*10)) // 5\n",
    "print(\"0.05 centavo coins: \", a)\n",
    "\n",
    "b = (x - (w*100) - (y*25) - (z*10) - (a*5)) // 1\n",
    "print(\"0.01 centavo coins: \", b)\n"
   ]
  }
 ],
 "metadata": {
  "kernelspec": {
   "display_name": "Python 3",
   "language": "python",
   "name": "python3"
  }
 },
 "nbformat": 4,
 "nbformat_minor": 4
}
